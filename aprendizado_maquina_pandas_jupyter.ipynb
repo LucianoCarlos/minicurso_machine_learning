{
 "cells": [
  {
   "cell_type": "markdown",
   "metadata": {},
   "source": [
    "<h1 align=\"center\" style=\"color: #00008B;\">Instituto Federal do Sudeste de Minas Gerais, Campus Barbacena</h1>\n",
    "<h2 align=\"center\" style=\"color: #00008B;\">Curso Superior de Tecnologia em Sistemas para Internet</h2>\n",
    "\n",
    "<h1 align=\"center\" style=\"color: #00008B;\">Semana Acadêmica 2/2017</h1>\n",
    "<br><br>\n",
    "\n",
    "<h1 align=\"center\">Aprendizado de máquina com Pandas e Jupyter Notebook</h1>\n",
    "\n",
    "<img src=\"img/machinelearning.png\">\n",
    "<div align=\"center\">Fonte: www.techemergence.com/what-is-machine-learning </div>"
   ]
  },
  {
   "cell_type": "markdown",
   "metadata": {},
   "source": [
    "<h1 style=\"color: #00008B;\">Anaconda</h1>\n",
    "\n",
    "<img src='img/anaconda.png'/>\n",
    "<div align=\"center\">Fonte: www.anaconda.com/</div>\n",
    "<p>Anaconda é uma plataforma de <i>software</i> que integra o Python com vários pacotes que podem ser úteis no desenvolvimento de aplicações científicas. <p>Multiplataforma (Windows, Linux, Mac OS),  agrega todas as ferramentas e recursos necessários para começar projetos de Data Science e Machine Learning em um único arquivo. </p>\n",
    "<p>Mais de 150 pacotes são instalados automaticamente com a Anaconda. Dentre eles: </p>\n",
    "\n",
    "> - Jupyter Notebook \n",
    "- Pandas \n",
    "- Matplotlib \n",
    "- Scikit \n",
    "\n",
    "- Download https://www.anaconda.com/download\n",
    "\n",
    "- Instalação https://docs.anaconda.com/anaconda/install"
   ]
  },
  {
   "cell_type": "markdown",
   "metadata": {},
   "source": [
    "<h1 style=\"color: #00008B;\">Jupyter Notebook</h1>\n",
    "\n",
    "O Jupyter Notebook é uma aplicação web de código aberto que permite criar documentos (<i>notebooks</i>) que contenham código, equações, visualizações e texto explicativo. Os usos incluem: limpeza e transformação de dados, simulação numérica, modelagem estatística, aprendizado de máquinas e muito mais.\n",
    "\n",
    "<strong><i>notebooks:</i></strong>\n",
    " Documento aberto baseado em [JSON](http://www.json.org/). Eles contêm um registro completo das sessões do usuário e incorporam código, texto narrativo, equações e resultados.\n",
    "\n",
    "Para mais detalhes acesse o site oficial: https://www.jupyter.org\n",
    "\n",
    "Inicie o servidor a partir da linha de comando:\n",
    "><code>jupyter notebook</code>\n",
    "\n",
    "\n",
    "<img src=\"img/jupyter.png\" width=800px title=\"Jupyter em execução\">\n",
    "<div align=\"center\">Jupyter Notebook em execução</div>\n",
    "\n"
   ]
  },
  {
   "cell_type": "markdown",
   "metadata": {},
   "source": [
    "<h1 style=\"color: #00008B;\">Python</h1>\n",
    "\n",
    "Python é uma linguagem de programação fácil de aprender e poderosa. Possui estruturas eficientes de dados de alto nível e uma abordagem simples, mas eficaz, para a programação orientada a objetos. A sintaxe elegante e a digitação dinâmica de Python, juntamente com a sua natureza interpretada, tornam a linguagem ideal para scripts e desenvolvimento de aplicativos rápidos em muitas áreas na maioria das plataformas.<br><br>\n",
    "<strong>Características:</strong>\n",
    ">- Open-source;\n",
    "- Multiplataforma, sendo nativa no Linux e no Mac OS;\n",
    "- Documentação abrangente e comunidade ativa;\n",
    "- Biblioteca padrão completa (batteries included);\n",
    "- Blocos delimitados por indentação;\n",
    "- Paradigmas: estruturado, orientado a objetos e funcional (funções como objetos);\n",
    "- Propósito geral: programação desktop, web, mobile (SL4A), redes, hacking, scripting;\n",
    "- Sintaxe clara e simples, com pequena curva de aprendizagem."
   ]
  },
  {
   "cell_type": "markdown",
   "metadata": {},
   "source": [
    "### Olá Mundo"
   ]
  },
  {
   "cell_type": "code",
   "execution_count": 1,
   "metadata": {},
   "outputs": [
    {
     "name": "stdout",
     "output_type": "stream",
     "text": [
      "Olá Mundo!\n"
     ]
    }
   ],
   "source": [
    "# Imprimindo Olá Mundo\n",
    "print('Olá Mundo!')"
   ]
  },
  {
   "cell_type": "code",
   "execution_count": 2,
   "metadata": {
    "collapsed": true
   },
   "outputs": [],
   "source": [
    "# Visualizando documentação\n",
    "print?"
   ]
  },
  {
   "cell_type": "markdown",
   "metadata": {},
   "source": [
    "### Variáveis\n",
    "\n",
    "Variáveis são um dos recursos mais básicos das linguagens de programação. Utilizadas para armazenar valores em memória, elas nos permitem gravar e ler esses dados com facilidade a partir de um nome definido por nós."
   ]
  },
  {
   "cell_type": "code",
   "execution_count": 3,
   "metadata": {
    "collapsed": true
   },
   "outputs": [],
   "source": [
    "# Declaração e atribuição de variáveis\n",
    "numero_par = 42\n",
    "numero_impar = '9'\n",
    "preco = 50.40\n",
    "noite = False"
   ]
  },
  {
   "cell_type": "code",
   "execution_count": 4,
   "metadata": {},
   "outputs": [
    {
     "name": "stdout",
     "output_type": "stream",
     "text": [
      "42\n"
     ]
    }
   ],
   "source": [
    "# Exibindo valor da variável numero_par\n",
    "print(numero_par)"
   ]
  },
  {
   "cell_type": "code",
   "execution_count": 5,
   "metadata": {},
   "outputs": [
    {
     "name": "stdout",
     "output_type": "stream",
     "text": [
      "9\n"
     ]
    }
   ],
   "source": [
    "# Exibindo valor da variável numero_impar\n",
    "print(numero_impar)"
   ]
  },
  {
   "cell_type": "code",
   "execution_count": 6,
   "metadata": {},
   "outputs": [
    {
     "name": "stdout",
     "output_type": "stream",
     "text": [
      "50.4\n"
     ]
    }
   ],
   "source": [
    "# Exibindo valor da variável preco\n",
    "print(preco)"
   ]
  },
  {
   "cell_type": "code",
   "execution_count": 7,
   "metadata": {},
   "outputs": [
    {
     "name": "stdout",
     "output_type": "stream",
     "text": [
      "False\n"
     ]
    }
   ],
   "source": [
    "# Exibindo valor da variável noite\n",
    "print(noite)"
   ]
  },
  {
   "cell_type": "markdown",
   "metadata": {},
   "source": [
    "### Tipos de dados\n",
    "\n",
    "Python fornece um conjunto de tipos básicos bastante amplo e que normalmente, atendem a maioria das necessidades. Cada tipo possui um conjunto de funções e métodos que permitem manipularmos as informações, contidas na variável, de maneira bastante eficiente.\n",
    "\n",
    " Lista de alguns tipos da linguagem Python:\n",
    ">- <strong>int</strong> - para números inteiros\n",
    "- <strong>float</strong> - para números flutuantes\n",
    "- <strong>str</strong> - para conjunto de caracteres\n",
    "- <strong>bool</strong> - armazena True ou False \n",
    "- <strong>list</strong> - para agrupar um conjunto de elementos ( <strong>[ ] ou list()</strong> )\n",
    "- <strong>tuple</strong> - semelhante ao tipo list, porém, imutável ( <strong>( ) ou tuple()</strong> )\n",
    "- <strong>dict</strong> - para agrupar elementos que serão recuperados por uma chave ( <strong>{ } ou dict()</strong> )"
   ]
  },
  {
   "cell_type": "code",
   "execution_count": 8,
   "metadata": {},
   "outputs": [
    {
     "data": {
      "text/plain": [
       "int"
      ]
     },
     "execution_count": 8,
     "metadata": {},
     "output_type": "execute_result"
    }
   ],
   "source": [
    "# Tipo da variável numero_par\n",
    "type(numero_par)"
   ]
  },
  {
   "cell_type": "code",
   "execution_count": 9,
   "metadata": {},
   "outputs": [
    {
     "data": {
      "text/plain": [
       "str"
      ]
     },
     "execution_count": 9,
     "metadata": {},
     "output_type": "execute_result"
    }
   ],
   "source": [
    "# Tipo da variável numero_impar\n",
    "type(numero_impar)"
   ]
  },
  {
   "cell_type": "code",
   "execution_count": 10,
   "metadata": {},
   "outputs": [
    {
     "data": {
      "text/plain": [
       "float"
      ]
     },
     "execution_count": 10,
     "metadata": {},
     "output_type": "execute_result"
    }
   ],
   "source": [
    "# Tipo da variável preco\n",
    "type(preco)"
   ]
  },
  {
   "cell_type": "code",
   "execution_count": 11,
   "metadata": {},
   "outputs": [
    {
     "data": {
      "text/plain": [
       "bool"
      ]
     },
     "execution_count": 11,
     "metadata": {},
     "output_type": "execute_result"
    }
   ],
   "source": [
    "# Tipo da variável noite\n",
    "type(noite)"
   ]
  },
  {
   "cell_type": "code",
   "execution_count": 12,
   "metadata": {},
   "outputs": [
    {
     "name": "stdout",
     "output_type": "stream",
     "text": [
      "['__add__', '__class__', '__contains__', '__delattr__', '__dir__', '__doc__', '__eq__', '__format__', '__ge__', '__getattribute__', '__getitem__', '__getnewargs__', '__gt__', '__hash__', '__init__', '__init_subclass__', '__iter__', '__le__', '__len__', '__lt__', '__mod__', '__mul__', '__ne__', '__new__', '__reduce__', '__reduce_ex__', '__repr__', '__rmod__', '__rmul__', '__setattr__', '__sizeof__', '__str__', '__subclasshook__', 'capitalize', 'casefold', 'center', 'count', 'encode', 'endswith', 'expandtabs', 'find', 'format', 'format_map', 'index', 'isalnum', 'isalpha', 'isdecimal', 'isdigit', 'isidentifier', 'islower', 'isnumeric', 'isprintable', 'isspace', 'istitle', 'isupper', 'join', 'ljust', 'lower', 'lstrip', 'maketrans', 'partition', 'replace', 'rfind', 'rindex', 'rjust', 'rpartition', 'rsplit', 'rstrip', 'split', 'splitlines', 'startswith', 'strip', 'swapcase', 'title', 'translate', 'upper', 'zfill']\n"
     ]
    }
   ],
   "source": [
    "# Conjunto de métodos pertencentes ao tipo string\n",
    "print(dir(numero_impar))"
   ]
  },
  {
   "cell_type": "markdown",
   "metadata": {},
   "source": [
    "### Conversão de tipos"
   ]
  },
  {
   "cell_type": "code",
   "execution_count": 13,
   "metadata": {},
   "outputs": [
    {
     "data": {
      "text/plain": [
       "3"
      ]
     },
     "execution_count": 13,
     "metadata": {},
     "output_type": "execute_result"
    }
   ],
   "source": [
    "# Converte o número decimal 3.14 em número inteiro. As casas decimais são ignoradas.\n",
    "int(3.14)"
   ]
  },
  {
   "cell_type": "code",
   "execution_count": 14,
   "metadata": {},
   "outputs": [
    {
     "data": {
      "text/plain": [
       "36"
      ]
     },
     "execution_count": 14,
     "metadata": {},
     "output_type": "execute_result"
    }
   ],
   "source": [
    "# Converte a string 36 em número inteiro\n",
    "int(\"36\")"
   ]
  },
  {
   "cell_type": "code",
   "execution_count": 15,
   "metadata": {},
   "outputs": [
    {
     "data": {
      "text/plain": [
       "7.0"
      ]
     },
     "execution_count": 15,
     "metadata": {},
     "output_type": "execute_result"
    }
   ],
   "source": [
    "# Converte o número inteiro 7 em float\n",
    "float(7)"
   ]
  },
  {
   "cell_type": "code",
   "execution_count": 16,
   "metadata": {},
   "outputs": [
    {
     "data": {
      "text/plain": [
       "9.0"
      ]
     },
     "execution_count": 16,
     "metadata": {},
     "output_type": "execute_result"
    }
   ],
   "source": [
    "# Converte a string 9 em número float\n",
    "float(\"9\")"
   ]
  },
  {
   "cell_type": "code",
   "execution_count": 17,
   "metadata": {},
   "outputs": [
    {
     "data": {
      "text/plain": [
       "'54'"
      ]
     },
     "execution_count": 17,
     "metadata": {},
     "output_type": "execute_result"
    }
   ],
   "source": [
    "# Converte o número inteiro 54 em string\n",
    "str(54)"
   ]
  },
  {
   "cell_type": "code",
   "execution_count": 18,
   "metadata": {},
   "outputs": [
    {
     "data": {
      "text/plain": [
       "'8.99'"
      ]
     },
     "execution_count": 18,
     "metadata": {},
     "output_type": "execute_result"
    }
   ],
   "source": [
    "# Converte o número decimal 8.99 em string\n",
    "str(8.99)"
   ]
  },
  {
   "cell_type": "markdown",
   "metadata": {},
   "source": [
    "### Operadores aritméticos\n",
    "> - +, -, /, \\*, \n",
    "- %\n",
    "- \\**\n",
    "\n",
    "### Expressões de comparação \n",
    "> \\>, <, >=, <=, ==, != \n",
    "\n",
    "### Expressões lógicas \n",
    "> and, or, not"
   ]
  },
  {
   "cell_type": "code",
   "execution_count": 19,
   "metadata": {},
   "outputs": [
    {
     "data": {
      "text/plain": [
       "32"
      ]
     },
     "execution_count": 19,
     "metadata": {},
     "output_type": "execute_result"
    }
   ],
   "source": [
    "# Potênciação\n",
    "2**5"
   ]
  },
  {
   "cell_type": "code",
   "execution_count": 20,
   "metadata": {},
   "outputs": [
    {
     "data": {
      "text/plain": [
       "0"
      ]
     },
     "execution_count": 20,
     "metadata": {},
     "output_type": "execute_result"
    }
   ],
   "source": [
    "# Resto da divisão\n",
    "15 % 3"
   ]
  },
  {
   "cell_type": "code",
   "execution_count": 21,
   "metadata": {},
   "outputs": [
    {
     "data": {
      "text/plain": [
       "False"
      ]
     },
     "execution_count": 21,
     "metadata": {},
     "output_type": "execute_result"
    }
   ],
   "source": [
    "# Igualdade\n",
    "1 == 2"
   ]
  },
  {
   "cell_type": "code",
   "execution_count": 22,
   "metadata": {},
   "outputs": [
    {
     "data": {
      "text/plain": [
       "False"
      ]
     },
     "execution_count": 22,
     "metadata": {},
     "output_type": "execute_result"
    }
   ],
   "source": [
    "True and False"
   ]
  },
  {
   "cell_type": "code",
   "execution_count": 23,
   "metadata": {},
   "outputs": [
    {
     "data": {
      "text/plain": [
       "True"
      ]
     },
     "execution_count": 23,
     "metadata": {},
     "output_type": "execute_result"
    }
   ],
   "source": [
    "not False"
   ]
  },
  {
   "cell_type": "code",
   "execution_count": 24,
   "metadata": {},
   "outputs": [
    {
     "data": {
      "text/plain": [
       "'String 01 String 02'"
      ]
     },
     "execution_count": 24,
     "metadata": {},
     "output_type": "execute_result"
    }
   ],
   "source": [
    "# Operador + também serve para concatenar strings e outros tipos de dados\n",
    "a = 'String 01'\n",
    "b = ' String 02'\n",
    "a + b"
   ]
  },
  {
   "cell_type": "markdown",
   "metadata": {},
   "source": [
    "### Lista\n",
    "\n",
    "Uma lista é um conjunto de valores, onde cada valor é identificado por um índice. Os valores que compõem uma lista são chamados de elementos. Listas são similares ao tipo Strings, que são um conjunto de caracteres, com a diferença que os elementos de uma lista podem possuir qualquer tipo.<br>As listas no Python são mutáveis, podendo ser alteradas a qualquer momento."
   ]
  },
  {
   "cell_type": "code",
   "execution_count": 25,
   "metadata": {
    "collapsed": true
   },
   "outputs": [],
   "source": [
    "# Existem várias maneiras de criar uma nova lista, a mais simples é envolver\n",
    "# os elementos em colchetes []\n",
    "numeros = [10, 20, 30, 40]\n",
    "planetas = ['Marte', 'Terra']\n",
    "diversos = ['oi', 2.0, 5, [10,20]]"
   ]
  },
  {
   "cell_type": "code",
   "execution_count": 26,
   "metadata": {},
   "outputs": [
    {
     "data": {
      "text/plain": [
       "[10, 20, 30, 40]"
      ]
     },
     "execution_count": 26,
     "metadata": {},
     "output_type": "execute_result"
    }
   ],
   "source": [
    "numeros"
   ]
  },
  {
   "cell_type": "code",
   "execution_count": 27,
   "metadata": {},
   "outputs": [
    {
     "data": {
      "text/plain": [
       "['Marte', 'Terra']"
      ]
     },
     "execution_count": 27,
     "metadata": {},
     "output_type": "execute_result"
    }
   ],
   "source": [
    "planetas"
   ]
  },
  {
   "cell_type": "code",
   "execution_count": 28,
   "metadata": {},
   "outputs": [
    {
     "data": {
      "text/plain": [
       "['oi', 2.0, 5, [10, 20]]"
      ]
     },
     "execution_count": 28,
     "metadata": {},
     "output_type": "execute_result"
    }
   ],
   "source": [
    "diversos"
   ]
  },
  {
   "cell_type": "code",
   "execution_count": 29,
   "metadata": {},
   "outputs": [
    {
     "data": {
      "text/plain": [
       "['Marte', 'Terra', 'Jupiter']"
      ]
     },
     "execution_count": 29,
     "metadata": {},
     "output_type": "execute_result"
    }
   ],
   "source": [
    "planetas.append('Jupiter')\n",
    "planetas"
   ]
  },
  {
   "cell_type": "code",
   "execution_count": 30,
   "metadata": {
    "collapsed": true
   },
   "outputs": [],
   "source": [
    "# O método remove(valor) remove da lista o valor recebido por parâmetro\n",
    "planetas.remove('Jupiter')"
   ]
  },
  {
   "cell_type": "code",
   "execution_count": 31,
   "metadata": {},
   "outputs": [
    {
     "data": {
      "text/plain": [
       "30"
      ]
     },
     "execution_count": 31,
     "metadata": {},
     "output_type": "execute_result"
    }
   ],
   "source": [
    "# Para acessar os elementos de uma lista basta utilizar o operador colchete ([])\n",
    "# A expressão dentro dos colchetes especifica o índice.\n",
    "# Obs.: Os índices iniciam em 0\n",
    "\n",
    "# Verificando o valor que está na posição 2\n",
    "numeros[2]"
   ]
  },
  {
   "cell_type": "code",
   "execution_count": 32,
   "metadata": {},
   "outputs": [
    {
     "data": {
      "text/plain": [
       "'Marte'"
      ]
     },
     "execution_count": 32,
     "metadata": {},
     "output_type": "execute_result"
    }
   ],
   "source": [
    "# Verificando o valor que está na posição 0\n",
    "planetas[0]"
   ]
  },
  {
   "cell_type": "code",
   "execution_count": 33,
   "metadata": {
    "collapsed": true
   },
   "outputs": [],
   "source": [
    "# ERRO: não existe posição 4 \n",
    "#diversos[4]"
   ]
  },
  {
   "cell_type": "code",
   "execution_count": 34,
   "metadata": {},
   "outputs": [
    {
     "data": {
      "text/plain": [
       "40"
      ]
     },
     "execution_count": 34,
     "metadata": {},
     "output_type": "execute_result"
    }
   ],
   "source": [
    "# Se um índice possui um valor negativo, ele conta ao contrário \n",
    "# a partir do final da lista:\n",
    "\n",
    "# Acessando o último valor na números\n",
    "numeros[-1]"
   ]
  },
  {
   "cell_type": "code",
   "execution_count": 35,
   "metadata": {
    "collapsed": true
   },
   "outputs": [],
   "source": [
    "# ERRO: não existe valor na antepenúltima posição de planetas\n",
    "#planetas[-3]"
   ]
  },
  {
   "cell_type": "code",
   "execution_count": 36,
   "metadata": {},
   "outputs": [
    {
     "data": {
      "text/plain": [
       "[20, 30]"
      ]
     },
     "execution_count": 36,
     "metadata": {},
     "output_type": "execute_result"
    }
   ],
   "source": [
    "# Acessando posições usando slice\n",
    "numeros[1:3]"
   ]
  },
  {
   "cell_type": "code",
   "execution_count": 37,
   "metadata": {},
   "outputs": [
    {
     "data": {
      "text/plain": [
       "4"
      ]
     },
     "execution_count": 37,
     "metadata": {},
     "output_type": "execute_result"
    }
   ],
   "source": [
    "# Exibe número de elementos da lista\n",
    "len(numeros)"
   ]
  },
  {
   "cell_type": "code",
   "execution_count": 38,
   "metadata": {},
   "outputs": [
    {
     "data": {
      "text/plain": [
       "100"
      ]
     },
     "execution_count": 38,
     "metadata": {},
     "output_type": "execute_result"
    }
   ],
   "source": [
    "# Somando elementos de uma lista\n",
    "sum(numeros)"
   ]
  },
  {
   "cell_type": "code",
   "execution_count": 39,
   "metadata": {},
   "outputs": [
    {
     "data": {
      "text/plain": [
       "10"
      ]
     },
     "execution_count": 39,
     "metadata": {},
     "output_type": "execute_result"
    }
   ],
   "source": [
    "# Menor elemento da lista\n",
    "min(numeros)"
   ]
  },
  {
   "cell_type": "code",
   "execution_count": 40,
   "metadata": {},
   "outputs": [
    {
     "data": {
      "text/plain": [
       "40"
      ]
     },
     "execution_count": 40,
     "metadata": {},
     "output_type": "execute_result"
    }
   ],
   "source": [
    "# Maior elemento da lista\n",
    "max(numeros)"
   ]
  },
  {
   "cell_type": "markdown",
   "metadata": {},
   "source": [
    "### Strings e listas"
   ]
  },
  {
   "cell_type": "code",
   "execution_count": 41,
   "metadata": {},
   "outputs": [
    {
     "data": {
      "text/plain": [
       "['Tecnologia', 'em', 'Sistemas', 'para', 'Internet']"
      ]
     },
     "execution_count": 41,
     "metadata": {},
     "output_type": "execute_result"
    }
   ],
   "source": [
    "# Duas das mais úteis funções no módulo string envolvem listas de strings.\n",
    "# A função split() quebra uma string em uma lista de palavras.\n",
    "curso = 'Tecnologia em Sistemas para Internet'\n",
    "curso_lista = curso.split(' ')\n",
    "curso_lista"
   ]
  },
  {
   "cell_type": "code",
   "execution_count": 42,
   "metadata": {},
   "outputs": [
    {
     "data": {
      "text/plain": [
       "'Tecnologia em Sistemas para Internet'"
      ]
     },
     "execution_count": 42,
     "metadata": {},
     "output_type": "execute_result"
    }
   ],
   "source": [
    "# A função join() é o inverso de split(). Ela pega uma lista de strings e \n",
    "# concatena os elementos com um espaço entre cada par:\n",
    "' '.join(curso_lista)"
   ]
  },
  {
   "cell_type": "markdown",
   "metadata": {},
   "source": [
    "### Dicionários\n",
    "\n",
    "São estruras de dados que implementam mapeamentos. Um mapeamento é uma coleção de associações entre pares de valores: primeiro elemento do par é chamado de chave e o outro de conteúdo."
   ]
  },
  {
   "cell_type": "code",
   "execution_count": 43,
   "metadata": {},
   "outputs": [
    {
     "data": {
      "text/plain": [
       "{'chave': 'valor'}"
      ]
     },
     "execution_count": 43,
     "metadata": {},
     "output_type": "execute_result"
    }
   ],
   "source": [
    "# Uma maneira de criar um dicionário é começando \n",
    "# com um dicionário vazio e depois adicionando elementos.\n",
    "dicionario = {}\n",
    "\n",
    "dicionario['chave'] = 'valor'\n",
    "\n",
    "dicionario"
   ]
  },
  {
   "cell_type": "code",
   "execution_count": 44,
   "metadata": {},
   "outputs": [
    {
     "data": {
      "text/plain": [
       "{'dois': 2, 'tres': 3, 'um': 1}"
      ]
     },
     "execution_count": 44,
     "metadata": {},
     "output_type": "execute_result"
    }
   ],
   "source": [
    "# Outra maneira de criar dicionários é fornecendo uma lista de pares \n",
    "# chaves-valor\n",
    "d1 = {'um': 1, 'dois': 2, 'tres': 3}\n",
    "d1"
   ]
  },
  {
   "cell_type": "code",
   "execution_count": 45,
   "metadata": {},
   "outputs": [
    {
     "data": {
      "text/plain": [
       "2"
      ]
     },
     "execution_count": 45,
     "metadata": {},
     "output_type": "execute_result"
    }
   ],
   "source": [
    "# Os pares chave-valor não estão em ordem! Felizmente, não existem motivos \n",
    "# para se preocupar com a ordem, desde que os elementos do dicionário \n",
    "# nunca sejam indexados com indices inteiros. \n",
    "# Podemos usar as chaves para buscar os valores correspondentes:\n",
    "d1['dois']"
   ]
  },
  {
   "cell_type": "code",
   "execution_count": 46,
   "metadata": {},
   "outputs": [
    {
     "data": {
      "text/plain": [
       "dict_keys(['um', 'dois', 'tres'])"
      ]
     },
     "execution_count": 46,
     "metadata": {},
     "output_type": "execute_result"
    }
   ],
   "source": [
    "# Para visualizar todas as chaves presentes no dicionário basta usar\n",
    "# método keys()\n",
    "d1.keys()"
   ]
  },
  {
   "cell_type": "code",
   "execution_count": 47,
   "metadata": {},
   "outputs": [
    {
     "data": {
      "text/plain": [
       "dict_values([1, 2, 3])"
      ]
     },
     "execution_count": 47,
     "metadata": {},
     "output_type": "execute_result"
    }
   ],
   "source": [
    "# Para visualizar todas os valores presentes no dicionário basta usar\n",
    "# método values()\n",
    "d1.values()"
   ]
  },
  {
   "cell_type": "markdown",
   "metadata": {
    "collapsed": true
   },
   "source": [
    "### Controle de fluxo\n",
    "### if\n",
    "\n",
    "O comando if direciona o computador a tomar uma decisão, baseado nas condiçõoes determinadas. Se a condição for atendida, um bloco de comandos será executado, caso contrário, o computador executa outros comandos."
   ]
  },
  {
   "cell_type": "code",
   "execution_count": 48,
   "metadata": {},
   "outputs": [
    {
     "name": "stdout",
     "output_type": "stream",
     "text": [
      "Informe um número: 11\n",
      "O número é maior que 10!\n"
     ]
    }
   ],
   "source": [
    "x = input(\"Informe um número: \")\n",
    "x = int(x)\n",
    "\n",
    "if x < 10:\n",
    "    print(\"O número é menor que 10!\")\n",
    "elif x == 10:\n",
    "    print(\"O número é 10!\")\n",
    "else:\n",
    "    print(\"O número é maior que 10!\")"
   ]
  },
  {
   "cell_type": "markdown",
   "metadata": {},
   "source": [
    "### while\n",
    "\n",
    "Esta estrutura de controle tem como objetivo executar o bloco de comandos identificado nela repetidamente, enquanto a condição dada, para sua validade, for verdadeira. "
   ]
  },
  {
   "cell_type": "code",
   "execution_count": 49,
   "metadata": {},
   "outputs": [
    {
     "name": "stdout",
     "output_type": "stream",
     "text": [
      "0\n",
      "1\n",
      "2\n",
      "3\n",
      "4\n",
      "5\n",
      "6\n",
      "7\n",
      "8\n",
      "9\n",
      "10\n"
     ]
    }
   ],
   "source": [
    "# Exibe os números de 1 até 10\n",
    "contador = 0\n",
    "\n",
    "while contador <= 10:\n",
    "    print(contador)\n",
    "    contador += 1"
   ]
  },
  {
   "cell_type": "markdown",
   "metadata": {},
   "source": [
    "### for\n",
    "\n",
    "É a estrutura de repetição mais usada no Python. A instrução aceita não só sequências estáticas, mas também sequências geradas por iteradores. Iteradores são estruturas que permitem iterações, ou seja, acesso aos itens de uma coleção de elementos, de forma sequencial."
   ]
  },
  {
   "cell_type": "code",
   "execution_count": 50,
   "metadata": {},
   "outputs": [
    {
     "name": "stdout",
     "output_type": "stream",
     "text": [
      "Domingo\n",
      "Segunda\n",
      "Terça\n",
      "Quarta\n",
      "Quinta\n",
      "Sexta\n",
      "Sábado\n"
     ]
    }
   ],
   "source": [
    "# Exibe os dias da semana\n",
    "dias_semana = ['Domingo', 'Segunda', 'Terça', 'Quarta', 'Quinta', 'Sexta', 'Sábado']\n",
    "\n",
    "for dia in dias_semana:\n",
    "    print(dia)"
   ]
  },
  {
   "cell_type": "code",
   "execution_count": 51,
   "metadata": {},
   "outputs": [
    {
     "name": "stdout",
     "output_type": "stream",
     "text": [
      "Soma = 4950\n"
     ]
    }
   ],
   "source": [
    "# Soma de 0 até 99\n",
    "soma = 0\n",
    "\n",
    "for x in range(0, 100):\n",
    "    soma += x\n",
    "\n",
    "print('Soma =', soma)"
   ]
  },
  {
   "cell_type": "markdown",
   "metadata": {},
   "source": [
    "### Funções\n",
    "A palavra reservada <strong>def</strong> inicia a definição de uma função. Ela deve ser seguida do nome da função e da lista de parâmetros formais entre parênteses. Os comandos que formam o corpo da função começam na linha seguinte e devem ser indentados."
   ]
  },
  {
   "cell_type": "code",
   "execution_count": 52,
   "metadata": {
    "scrolled": true
   },
   "outputs": [
    {
     "data": {
      "text/plain": [
       "5"
      ]
     },
     "execution_count": 52,
     "metadata": {},
     "output_type": "execute_result"
    }
   ],
   "source": [
    "def soma(a, b):\n",
    "    return a+b\n",
    "\n",
    "soma(2, 3)"
   ]
  },
  {
   "cell_type": "markdown",
   "metadata": {},
   "source": [
    "### Atividade\n",
    "Faça um algoritmo que calcule o peso ideal de uma pessoa usando as seguintes fórmulas:\n",
    "- homens: (72.7 * altura) - 58\n",
    "- mulheres: (62.1 * altura) - 44.7"
   ]
  },
  {
   "cell_type": "code",
   "execution_count": 53,
   "metadata": {},
   "outputs": [
    {
     "name": "stdout",
     "output_type": "stream",
     "text": [
      "Peso ideal:  80.13 kg\n"
     ]
    }
   ],
   "source": [
    "def peso_ideal(sexo, altura):\n",
    "    \n",
    "    # Armazena peso ideal\n",
    "    peso_ideal = 0\n",
    "    \n",
    "    if sexo == 1:\n",
    "        peso_ideal = (72.7 * altura) - 58\n",
    "    else:\n",
    "        peso_ideal = (62.1 * altura) - 44.7\n",
    "        \n",
    "    print('Peso ideal: ', peso_ideal, 'kg')\n",
    "\n",
    "# 1=homens, 2=mulheres\n",
    "peso_ideal(1, 1.9)"
   ]
  },
  {
   "cell_type": "markdown",
   "metadata": {},
   "source": [
    "### Atividade\n",
    "Escreva uma função chamada fatorial que receba um valor 'n' e retorne n!\n",
    ">fatorial(0) = 1"
   ]
  },
  {
   "cell_type": "code",
   "execution_count": 54,
   "metadata": {},
   "outputs": [
    {
     "name": "stdout",
     "output_type": "stream",
     "text": [
      "Digite um valor: 5\n"
     ]
    },
    {
     "data": {
      "text/plain": [
       "120"
      ]
     },
     "execution_count": 54,
     "metadata": {},
     "output_type": "execute_result"
    }
   ],
   "source": [
    "def fatorial(n):\n",
    "    ''' Calcula fatorial'''\n",
    "    if n == 0:\n",
    "        return 1\n",
    "    \n",
    "    fat = 1\n",
    "    \n",
    "    for i in range(1, n+1):    \n",
    "        fat = fat * i\n",
    "    \n",
    "    return fat\n",
    "\n",
    "n = int(input('Digite um valor: '))\n",
    "\n",
    "fatorial(n)"
   ]
  },
  {
   "cell_type": "markdown",
   "metadata": {},
   "source": [
    "### Atividade\n",
    "Faça uma função que verifica se um número é primo."
   ]
  },
  {
   "cell_type": "code",
   "execution_count": null,
   "metadata": {
    "collapsed": true
   },
   "outputs": [],
   "source": []
  },
  {
   "cell_type": "markdown",
   "metadata": {},
   "source": [
    "## Referências"
   ]
  },
  {
   "cell_type": "markdown",
   "metadata": {},
   "source": [
    "> DevMedia. **Documentação: Python: Trabalhando com variáveis**. Disponível em: <<a>http://www.devmedia.com.br/python-trabalhando-com-variaveis/38644</a>>. Acesso em: 07 Set. 2017.\n",
    "\n",
    ">CARVALHO FILHO, Cláudio Rogério. **TIPOS DE DADOS EM PYTHON**. Disponível em: <<a>http://excript.com/python/tipos-de-dados-python.html</a>>. Acesso em: 07 Set. 2017.\n",
    "\n",
    "> **Capítulo 2: Variáveis, expressões e comandos¶**. Disponível em: <<a>https://aprendendo-computacao-com-python.readthedocs.io/en/latest/capitulo_02.html</a>>. Acesso em: 07 Set. 2017.\n",
    "\n",
    "> BORGES, Luiz Eduardo. **Python para Desenvolvedores**. 2. ed. Disponível em: <<a>https://ark4n.files.wordpress.com/2010/01/python_para_desenvolvedores_2ed.pdf</a>>. Acesso em: 01 Set. 2017.\n",
    "\n",
    "\n",
    "> Python 3.6.2 documentation. **More Control Flow Tool**. Disponível em: <<a>https://docs.python.org/3/tutorial/controlflow.html</a>>. Acesso em: 01 Set. 2017.\n",
    "\n",
    "> COUTO, Vando. **Python com Farinha – if , elif e else [Tópico 1]**. Disponível em: <<a>http://tutoriaisgnulinux.com/2013/10/30/python-com-farinha-if-elif-e-else-topico-1/</a>>. Acesso em: 01 Set. 2017\n",
    "\n",
    "> DOWNEY, Allen at el. **Aprenda Computação com Python 3.0**. Disponível em: <<a>http://rodrigor.dcx.ufpb.br/_media/disciplinas/introprog/19939680-aprendacomputaocompython3k.pdf</a>>. Acesso em: 01 Set. 2017.\n",
    "\n",
    "> The Python Wiki. **For loops**. Disponível em: <<a>https://wiki.python.org/moin/ForLoop</a>>. Acesso em: 01 Set. 2017.\n",
    "\n",
    "> GALVÃO, Felipe. **Ciência de Dados com Python – Básico do Pandas – Leitura de DataFrames**. Disponível em: <<a>http://felipegalvao.com.br/blog/2016/02/18/ciencia-de-dados-com-python-basico-do-pandas-leitura-de-dataframes/</a>>. Acesso em: 08 Set. 2017.\n",
    "\n",
    "> Python Data Analysis Library. **pandas.Series**. Disponível em: <<a>https://pandas.pydata.org/pandas-docs/stable/generated/pandas.Series.html#pandas.Series</a>>. Acesso em: 08 Set. 2017.\n",
    "\n",
    "> Python Data Analysis Library. **pandas.DataFrame**. Disponível em: <<a>https://pandas.pydata.org/pandas-docs/stable/generated/pandas.DataFrame.html#pandas.DataFrame</a>>. Acesso em: 08 Set. 2017.\n",
    "\n",
    "> VASCONCELLOS, Paulo. **28 comandos úteis de Pandas que talvez você não conheça**. Disponível em: <<a>https://paulovasconcellos.com.br/28-comandos-%C3%BAteis-de-pandas-que-talvez-voc%C3%AA-n%C3%A3o-conhe%C3%A7a-6ab64beefa93</a>>. Acesso em: 08 Set. 2017.\n",
    "\n",
    "> Python Data Analysis Library. **Indexing and Selecting Data**. Disponível em: <<a>https://pandas.pydata.org/pandas-docs/stable/indexing.html</a>>. Acesso em: 08 Set. 2017.\n",
    "\n",
    "> GitHub. **DSA-Python-Capítulo8-Pandas.ipynb**. Disponível em: <<a>https://github.com/dsacademybr/PythonFundamentos/blob/master/JupyterNotebooks/Cap%C3%ADtulo08/DSA-Python-Cap%C3%ADtulo8-Pandas.ipynb</a>>. Acesso em: 08 Set. 2017.\n",
    "\n",
    "> GALVÃO, Felipe. **Manipulação de Dados com Python (Pandas)**. Disponível em: <<a>http://felipegalvao.com.br/blog/2016/02/29/manipulacao-de-dados-com-python-pandas/</a>>. Acesso em: 10 Set. 2017.\n"
   ]
  }
 ],
 "metadata": {
  "kernelspec": {
   "display_name": "Python 3",
   "language": "python",
   "name": "python3"
  },
  "language_info": {
   "codemirror_mode": {
    "name": "ipython",
    "version": 3
   },
   "file_extension": ".py",
   "mimetype": "text/x-python",
   "name": "python",
   "nbconvert_exporter": "python",
   "pygments_lexer": "ipython3",
   "version": "3.6.1"
  }
 },
 "nbformat": 4,
 "nbformat_minor": 2
}
